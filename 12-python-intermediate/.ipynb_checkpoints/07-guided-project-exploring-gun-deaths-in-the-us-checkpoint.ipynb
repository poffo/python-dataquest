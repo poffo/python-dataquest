{
 "cells": [
  {
   "cell_type": "markdown",
   "metadata": {},
   "source": [
    "- As you can see above, the first row of the data is a header row, which tells you what kind of data is in each column of the CSV file. Each row contains information about the fatality, and the victim. Here's an explanation of each column:\n",
    "\n",
    "- -- this is an identifier column, which contains the row number. It's common in CSV files to include a unique identifier for each row, but we can ignore it in this analysis.\n",
    "- year -- the year in which the fatality occurred.\n",
    "- month -- the month in which the fatality occurred.\n",
    "- intent -- the intent of the perpetrator of the crime. This can be Suicide, Accidental, NA, Homicide, or Undetermined.\n",
    "- police -- whether a police officer was involved with the shooting. Either 0 (false) or 1 (true).\n",
    "- sex -- the gender of the victim. Either M or F.\n",
    "- age -- the age of the victim.\n",
    "- race -- the race of the victim. Either Asian/Pacific Islander, Native American/Native Alaskan, Black, Hispanic, or White.\n",
    "- hispanic -- a code indicating the Hispanic origin of the victim.\n",
    "- place -- where the shooting occurred. Has several categories, which you're encouraged to explore on your own.\n",
    "- education -- educational status of the victim. Can be one of the following:\n",
    "  - 1 -- Less than High School\n",
    "  - 2 -- Graduated from High School or equivalent\n",
    "  - 3 -- Some College\n",
    "  - 4 -- At least graduated from College\n",
    "  - 5 -- Not available"
   ]
  },
  {
   "cell_type": "code",
   "execution_count": 1,
   "metadata": {
    "collapsed": true
   },
   "outputs": [],
   "source": [
    "import csv"
   ]
  },
  {
   "cell_type": "markdown",
   "metadata": {},
   "source": [
    "# 1"
   ]
  },
  {
   "cell_type": "code",
   "execution_count": 5,
   "metadata": {},
   "outputs": [
    {
     "name": "stdout",
     "output_type": "stream",
     "text": [
      "[['', 'year', 'month', 'intent', 'police', 'sex', 'age', 'race', 'hispanic', 'place', 'education'], ['1', '2012', '01', 'Suicide', '0', 'M', '34', 'Asian/Pacific Islander', '100', 'Home', '4'], ['2', '2012', '01', 'Suicide', '0', 'F', '21', 'White', '100', 'Street', '3'], ['3', '2012', '01', 'Suicide', '0', 'M', '60', 'White', '100', 'Other specified', '4'], ['4', '2012', '02', 'Suicide', '0', 'M', '64', 'White', '100', 'Home', '4'], ['5', '2012', '02', 'Suicide', '0', 'M', '31', 'White', '100', 'Other specified', '2'], ['6', '2012', '02', 'Suicide', '0', 'M', '17', 'Native American/Native Alaskan', '100', 'Home', '1'], ['7', '2012', '02', 'Undetermined', '0', 'M', '48', 'White', '100', 'Home', '2'], ['8', '2012', '03', 'Suicide', '0', 'M', '41', 'Native American/Native Alaskan', '100', 'Home', '2'], ['9', '2012', '02', 'Accidental', '0', 'M', '50', 'White', '100', 'Other specified', '3']]\n"
     ]
    }
   ],
   "source": [
    "\n",
    "data = list(csv.reader(open('guns.csv')))\n",
    "\n",
    "print(data[:10])"
   ]
  },
  {
   "cell_type": "markdown",
   "metadata": {},
   "source": [
    "# 2\n",
    "\n",
    "- Extract the first row of data, and assign it to the variable headers.\n",
    "- Remove the first row from data.\n",
    "- Display headers.\n",
    "- Display the first 5 rows of data to verify that you removed the header row properly."
   ]
  },
  {
   "cell_type": "code",
   "execution_count": 7,
   "metadata": {},
   "outputs": [
    {
     "name": "stdout",
     "output_type": "stream",
     "text": [
      "[['2', '2012', '01', 'Suicide', '0', 'F', '21', 'White', '100', 'Street', '3'], ['3', '2012', '01', 'Suicide', '0', 'M', '60', 'White', '100', 'Other specified', '4'], ['4', '2012', '02', 'Suicide', '0', 'M', '64', 'White', '100', 'Home', '4'], ['5', '2012', '02', 'Suicide', '0', 'M', '31', 'White', '100', 'Other specified', '2'], ['6', '2012', '02', 'Suicide', '0', 'M', '17', 'Native American/Native Alaskan', '100', 'Home', '1']]\n"
     ]
    }
   ],
   "source": [
    "headers = data[0]\n",
    "data = data[1:]\n",
    "print(data[:5])"
   ]
  },
  {
   "cell_type": "markdown",
   "metadata": {},
   "source": [
    "# 3\n",
    "\n",
    "- Use a list comprehension to extract the year column from data.\n",
    "- Because the year column is the second column in the data, you'll need to get the element at index 1 in each row.\n",
    "- Assign the result to the variable years.\n",
    "- Create an empty dictionary called year_counts.\n",
    "- Loop through each element in years.\n",
    "- If the element isn't a key in year_counts, create it, and set the value to 1.\n",
    "- If the element is a key in year_counts, increment the value by one.\n",
    "- Display year_counts to see how many gun deaths occur in each year.\n",
    "\n"
   ]
  },
  {
   "cell_type": "code",
   "execution_count": 12,
   "metadata": {},
   "outputs": [
    {
     "name": "stdout",
     "output_type": "stream",
     "text": [
      "{'2014': 33599, '2013': 33636, '2012': 33562}\n"
     ]
    }
   ],
   "source": [
    "year_counts = {}\n",
    "\n",
    "for row in data:\n",
    "    if(year_counts.get(str(row[1])) is None):\n",
    "        year_counts[str(row[1])] = 1\n",
    "    else:\n",
    "        year_counts[str(row[1])] += 1\n",
    "\n",
    "print(year_counts)"
   ]
  },
  {
   "cell_type": "code",
   "execution_count": 13,
   "metadata": {},
   "outputs": [
    {
     "name": "stdout",
     "output_type": "stream",
     "text": [
      "2012: 33562\n",
      "2013: 33636\n",
      "2014: 33599\n"
     ]
    }
   ],
   "source": [
    "print(\"2012: \" + str(year_counts.get(\"2012\")))\n",
    "print(\"2013: \" + str(year_counts.get(\"2013\")))\n",
    "print(\"2014: \" + str(year_counts.get(\"2014\")))"
   ]
  },
  {
   "cell_type": "markdown",
   "metadata": {},
   "source": [
    "# 4\n",
    "\n",
    "- Use a list comprehension to create a datetime.datetime object for each row. Assign the result to dates.\n",
    "  - The year column in the second element in each row.\n",
    "  - The month column is the third element in each row.\n",
    "  - Make sure to convert year and month to integers using int().\n",
    "  - Pass year, month, and day=1 into the datetime.datetime() function.\n",
    "- Display the first 5 rows in dates to verify everything worked.\n",
    "- Count up how many times each unique date occurs in dates. Assign the result to date_counts.\n",
    "  - This follows a similar procedure to what we did in the last screen with year_counts.\n",
    "- Display date_counts.\n",
    "\n"
   ]
  },
  {
   "cell_type": "code",
   "execution_count": 22,
   "metadata": {},
   "outputs": [
    {
     "name": "stdout",
     "output_type": "stream",
     "text": [
      "[datetime.datetime(2012, 1, 1, 0, 0), datetime.datetime(2012, 1, 1, 0, 0), datetime.datetime(2012, 2, 1, 0, 0), datetime.datetime(2012, 2, 1, 0, 0), datetime.datetime(2012, 2, 1, 0, 0)]\n",
      "{datetime.datetime(2013, 8, 1, 0, 0): 2859, datetime.datetime(2014, 3, 1, 0, 0): 2684, datetime.datetime(2013, 4, 1, 0, 0): 2798, datetime.datetime(2014, 10, 1, 0, 0): 2865, datetime.datetime(2013, 10, 1, 0, 0): 2808, datetime.datetime(2013, 3, 1, 0, 0): 2862, datetime.datetime(2014, 12, 1, 0, 0): 2857, datetime.datetime(2014, 2, 1, 0, 0): 2361, datetime.datetime(2013, 9, 1, 0, 0): 2742, datetime.datetime(2013, 6, 1, 0, 0): 2920, datetime.datetime(2012, 3, 1, 0, 0): 2743, datetime.datetime(2013, 5, 1, 0, 0): 2806, datetime.datetime(2012, 12, 1, 0, 0): 2791, datetime.datetime(2014, 5, 1, 0, 0): 2864, datetime.datetime(2012, 2, 1, 0, 0): 2357, datetime.datetime(2014, 7, 1, 0, 0): 2884, datetime.datetime(2013, 11, 1, 0, 0): 2758, datetime.datetime(2014, 4, 1, 0, 0): 2862, datetime.datetime(2013, 7, 1, 0, 0): 3079, datetime.datetime(2012, 1, 1, 0, 0): 2757, datetime.datetime(2013, 12, 1, 0, 0): 2765, datetime.datetime(2012, 11, 1, 0, 0): 2729, datetime.datetime(2012, 7, 1, 0, 0): 3026, datetime.datetime(2012, 9, 1, 0, 0): 2852, datetime.datetime(2014, 9, 1, 0, 0): 2914, datetime.datetime(2014, 6, 1, 0, 0): 2931, datetime.datetime(2014, 8, 1, 0, 0): 2970, datetime.datetime(2012, 10, 1, 0, 0): 2733, datetime.datetime(2012, 5, 1, 0, 0): 2999, datetime.datetime(2012, 6, 1, 0, 0): 2826, datetime.datetime(2014, 11, 1, 0, 0): 2756, datetime.datetime(2013, 1, 1, 0, 0): 2864, datetime.datetime(2012, 8, 1, 0, 0): 2954, datetime.datetime(2014, 1, 1, 0, 0): 2651, datetime.datetime(2012, 4, 1, 0, 0): 2795, datetime.datetime(2013, 2, 1, 0, 0): 2375}\n"
     ]
    }
   ],
   "source": [
    "import datetime\n",
    "\n",
    "dates = [datetime.datetime(year=int(row[1]), month=int(row[2]), day=1) for row in data]\n",
    "\n",
    "print(dates[:5])\n",
    "\n",
    "date_counts = {}\n",
    "\n",
    "for date in dates:\n",
    "    if(date_counts.get(date) is None):\n",
    "        date_counts[date] = 1\n",
    "    else:\n",
    "        date_counts[date] += 1\n",
    "\n",
    "print(date_counts)"
   ]
  },
  {
   "cell_type": "markdown",
   "metadata": {},
   "source": [
    "# 5\n",
    "\n",
    "- Count up how many times each item in the sex column occurs.\n",
    "- Assign the result to sex_counts.\n",
    "- Count up how many times each item in the race column occurs.\n",
    "- Assign the result to race_counts.\n",
    "- Display race_counts and sex_counts to verify your work, and see if you can spot any patterns.\n",
    "- Write a markdown cell detailing what you've learned so far, and what you think might need further examination."
   ]
  },
  {
   "cell_type": "code",
   "execution_count": 30,
   "metadata": {},
   "outputs": [
    {
     "name": "stdout",
     "output_type": "stream",
     "text": [
      "{\n",
      "    \"M\": 86348, \n",
      "    \"F\": 14449\n",
      "}\n",
      "{\n",
      "    \"Native American/Native Alaskan\": 917, \n",
      "    \"Asian/Pacific Islander\": 1325, \n",
      "    \"White\": 66237, \n",
      "    \"Black\": 23296, \n",
      "    \"Hispanic\": 9022\n",
      "}\n"
     ]
    }
   ],
   "source": [
    "sex_counts = {} #5\n",
    "race_counts = {} #7\n",
    "\n",
    "for row in data:\n",
    "    #sex (5)\n",
    "    if(sex_counts.get(row[5]) is None):\n",
    "        sex_counts[row[5]] = 1\n",
    "    else:\n",
    "        sex_counts[row[5]] += 1\n",
    "\n",
    "    #race (7)\n",
    "    if(race_counts.get(row[7]) is None):\n",
    "        race_counts[row[7]] = 1\n",
    "    else:\n",
    "        race_counts[row[7]] += 1\n",
    "\n",
    "        \n",
    "import json\n",
    "\n",
    "print(json.dumps(sex_counts, indent=4))\n",
    "print(json.dumps(race_counts, indent=4))"
   ]
  },
  {
   "cell_type": "markdown",
   "metadata": {},
   "source": [
    "# Understanding\n",
    "\n",
    "- It happened much more deaths in Men than in Woman.\n",
    "- The race white is leading the deaths by gun."
   ]
  },
  {
   "cell_type": "markdown",
   "metadata": {},
   "source": [
    "# 6\n",
    "\n",
    "- Read in census.csv, and convert to a list of lists. Assign the result to the census variable.\n",
    "- Display census to verify your work."
   ]
  },
  {
   "cell_type": "code",
   "execution_count": 29,
   "metadata": {},
   "outputs": [
    {
     "name": "stdout",
     "output_type": "stream",
     "text": [
      "[\n",
      "    [\n",
      "        \"Id\", \n",
      "        \"Year\", \n",
      "        \"Id\", \n",
      "        \"Sex\", \n",
      "        \"Id\", \n",
      "        \"Hispanic Origin\", \n",
      "        \"Id\", \n",
      "        \"Id2\", \n",
      "        \"Geography\", \n",
      "        \"Total\", \n",
      "        \"Race Alone - White\", \n",
      "        \"Race Alone - Hispanic\", \n",
      "        \"Race Alone - Black or African American\", \n",
      "        \"Race Alone - American Indian and Alaska Native\", \n",
      "        \"Race Alone - Asian\", \n",
      "        \"Race Alone - Native Hawaiian and Other Pacific Islander\", \n",
      "        \"Two or More Races\"\n",
      "    ], \n",
      "    [\n",
      "        \"cen42010\", \n",
      "        \"April 1, 2010 Census\", \n",
      "        \"totsex\", \n",
      "        \"Both Sexes\", \n",
      "        \"tothisp\", \n",
      "        \"Total\", \n",
      "        \"0100000US\", \n",
      "        \"\", \n",
      "        \"United States\", \n",
      "        \"308745538\", \n",
      "        \"197318956\", \n",
      "        \"44618105\", \n",
      "        \"40250635\", \n",
      "        \"3739506\", \n",
      "        \"15159516\", \n",
      "        \"674625\", \n",
      "        \"6984195\"\n",
      "    ]\n",
      "]\n"
     ]
    }
   ],
   "source": [
    "import json\n",
    "\n",
    "census = list(csv.reader(open('census.csv')))\n",
    "                              \n",
    "print(json.dumps(census, indent=4, sort_keys=True))"
   ]
  },
  {
   "cell_type": "markdown",
   "metadata": {},
   "source": [
    "# 7\n",
    "\n",
    "- Manually create a dictionary, mapping that maps each key from race_counts to the population count of the race from census.\n",
    "  - The keys in the dictionary should be Asian/Pacific Islander, Black, Native American/Native Alaskan, Hispanic, and White.\n",
    "  - In the case of Asian/Pacific Islander, you'll need to add the counts from census for Race Alone - Asian, and Race Alone - Native Hawaiian and Other Pacific Islander.\n",
    "\n",
    "- Create an empty dictionary, race_per_hundredk.\n",
    "- Loop through each key in race_counts.\n",
    "  - Divide the value associated with the key in race_counts by the value associated with the key in mapping.\n",
    "  - Multiply by 100000.\n",
    "  - Assign the result to the same key in race_per_hundredk.\n",
    "\n",
    "- When you're done, race_per_hundredk should contain the rate of gun deaths per 100000 people for each racial category.\n",
    "- Print race_per_hundredk to verify your work.\n",
    "\n"
   ]
  },
  {
   "cell_type": "code",
   "execution_count": 34,
   "metadata": {
    "collapsed": true
   },
   "outputs": [],
   "source": [
    "mapDataCensus = {\n",
    "    \"Race Alone - Asian\": \"Asian/Pacific Islander\",\n",
    "    \"Race Alone - Native Hawaiian and Other Pacific Islander\": \"Asian/Pacific Islander\",\n",
    "    \"Race Alone - Black or African American\": \"Black\",\n",
    "    \"Race Alone - Hispanic\": \"Hispanic\",\n",
    "    \"Race Alone - American Indian and Alaska Native\": \"Native American/Native Alaskan\",\n",
    "    \"Race Alone - White\": \"White\"\n",
    "}"
   ]
  },
  {
   "cell_type": "code",
   "execution_count": 51,
   "metadata": {},
   "outputs": [
    {
     "name": "stdout",
     "output_type": "stream",
     "text": [
      "{\n",
      "   \"Native American/Native Alaskan\": 3739506, \n",
      "   \"Hispanic\": 44618105, \n",
      "   \"White\": 197318956, \n",
      "   \"Asian/Pacific Islander\": 15834141, \n",
      "   \"Black\": 40250635\n",
      "}\n"
     ]
    }
   ],
   "source": [
    "censusMapByDataRace = {}\n",
    "\n",
    "for c in mapDataCensus.keys():\n",
    "    if(censusMapByDataRace.get(mapDataCensus[c]) is None):\n",
    "        censusMapByDataRace[mapDataCensus[c]] = int(census[1][census[0].index(c)])\n",
    "    else:\n",
    "        censusMapByDataRace[mapDataCensus[c]] += int(census[1][census[0].index(c)])\n",
    "\n",
    "print(json.dumps(censusMapByDataRace, indent=3))"
   ]
  },
  {
   "cell_type": "code",
   "execution_count": 62,
   "metadata": {},
   "outputs": [
    {
     "name": "stdout",
     "output_type": "stream",
     "text": [
      "race_counts[Native American/Native Alaskan]: 917.0\n",
      "censusMapByDataRace[Native American/Native Alaskan]: 3739506.0\n",
      "24.5219555738\n",
      "\n",
      "race_counts[Asian/Pacific Islander]: 1325.0\n",
      "censusMapByDataRace[Asian/Pacific Islander]: 15834141.0\n",
      "8.36799419684\n",
      "\n",
      "race_counts[White]: 66237.0\n",
      "censusMapByDataRace[White]: 197318956.0\n",
      "33.5684930342\n",
      "\n",
      "race_counts[Black]: 23296.0\n",
      "censusMapByDataRace[Black]: 40250635.0\n",
      "57.8773477735\n",
      "\n",
      "race_counts[Hispanic]: 9022.0\n",
      "censusMapByDataRace[Hispanic]: 44618105.0\n",
      "20.2204912109\n",
      "\n",
      "{\n",
      "   \"Native American/Native Alaskan\": 24.521955573811088, \n",
      "   \"Black\": 57.8773477735196, \n",
      "   \"White\": 33.56849303419181, \n",
      "   \"Asian/Pacific Islander\": 8.36799419684339, \n",
      "   \"Hispanic\": 20.220491210910907\n",
      "}\n"
     ]
    }
   ],
   "source": [
    "race_per_hundredk = {}\n",
    "\n",
    "for key in race_counts.keys():\n",
    "    print(\"race_counts[\" + key + \"]: \" + str(float(race_counts[key])))\n",
    "    print(\"censusMapByDataRace[\" + key + \"]: \" + str(float(censusMapByDataRace[key])))\n",
    "    print(float(((float(race_counts[key]) / float(censusMapByDataRace[key])) * 100000)))\n",
    "    print(\"\")\n",
    "    race_per_hundredk[key] = ((float(race_counts[key]) / float(censusMapByDataRace[key])) * 100000)\n",
    "\n",
    "print(json.dumps(race_per_hundredk, indent=3))"
   ]
  },
  {
   "cell_type": "markdown",
   "metadata": {},
   "source": [
    "# 8\n",
    "\n",
    "- Extract the intent column using a list comprehension. The intent column is the fourth column in data.\n",
    "  - Assign the result to intents.\n",
    "- Extract the race column using a list comprehension. The race column is the eighth column in data.\n",
    "  - Assign the result to races.\n",
    "- Create an empty dictionary called homicide_race_counts\n",
    "- Use the enumerate() function to loop through each item in races. The position should be assigned to the loop variable i, and the value to the loop variable race.\n",
    "  - Check the value at position i in intents.\n",
    "  - If the value at position i in intents is Homicide:\n",
    "    - If the key race doesn't exist in homicide_race_counts, create it.\n",
    "    - Add 1 to the value associated with race in homicide_race_counts.\n",
    "- When you're done, homicide_race_counts should have one key for each of the racial categories in data. The associated value should be the number of gun deaths by homicide for that race.\n",
    "- Perform the same procedure we did in the last screen using mapping on homicide_race_counts to get from raw numbers to rates per 100000.\n",
    "- Display homicide_race_counts to verify your work.\n",
    "- Write up your findings in a markdown cell.\n",
    "- Write up any next steps you want to pursue with the data in a markdown cell.\n",
    "\n",
    "\n"
   ]
  },
  {
   "cell_type": "code",
   "execution_count": 65,
   "metadata": {
    "collapsed": true
   },
   "outputs": [],
   "source": [
    "intents = [row[3] for row in data]\n",
    "races = [row[7] for row in data]"
   ]
  },
  {
   "cell_type": "code",
   "execution_count": 66,
   "metadata": {},
   "outputs": [
    {
     "name": "stdout",
     "output_type": "stream",
     "text": [
      "{\n",
      "   \"Native American/Native Alaskan\": 326, \n",
      "   \"Black\": 19510, \n",
      "   \"White\": 9147, \n",
      "   \"Asian/Pacific Islander\": 559, \n",
      "   \"Hispanic\": 5634\n",
      "}\n"
     ]
    }
   ],
   "source": [
    "homecide_race_counts = {}\n",
    "\n",
    "for i, race in enumerate(races):\n",
    "    if(intents[i] == 'Homicide'):\n",
    "        if(homecide_race_counts.get(race) is None):\n",
    "            homecide_race_counts[race] = 1\n",
    "        else:\n",
    "            homecide_race_counts[race] += 1\n",
    "\n",
    "print(json.dumps(homecide_race_counts, indent=3))"
   ]
  },
  {
   "cell_type": "code",
   "execution_count": 67,
   "metadata": {},
   "outputs": [
    {
     "name": "stdout",
     "output_type": "stream",
     "text": [
      "homecide_race_counts[Native American/Native Alaskan]: 326.0\n",
      "censusMapByDataRace[Native American/Native Alaskan]: 3739506.0\n",
      "24.5219555738\n",
      "\n",
      "homecide_race_counts[Black]: 19510.0\n",
      "censusMapByDataRace[Black]: 40250635.0\n",
      "57.8773477735\n",
      "\n",
      "homecide_race_counts[White]: 9147.0\n",
      "censusMapByDataRace[White]: 197318956.0\n",
      "33.5684930342\n",
      "\n",
      "homecide_race_counts[Asian/Pacific Islander]: 559.0\n",
      "censusMapByDataRace[Asian/Pacific Islander]: 15834141.0\n",
      "8.36799419684\n",
      "\n",
      "homecide_race_counts[Hispanic]: 5634.0\n",
      "censusMapByDataRace[Hispanic]: 44618105.0\n",
      "20.2204912109\n",
      "\n",
      "{\n",
      "   \"Native American/Native Alaskan\": 8.717729026240365, \n",
      "   \"Black\": 48.471284987180944, \n",
      "   \"White\": 4.6356417981453335, \n",
      "   \"Asian/Pacific Islander\": 3.530346230970155, \n",
      "   \"Hispanic\": 12.627161104219914\n",
      "}\n"
     ]
    }
   ],
   "source": [
    "for key in homecide_race_counts.keys():\n",
    "    print(\"homecide_race_counts[\" + key + \"]: \" + str(float(homecide_race_counts[key])))\n",
    "    print(\"censusMapByDataRace[\" + key + \"]: \" + str(float(censusMapByDataRace[key])))\n",
    "    print(float(((float(race_counts[key]) / float(censusMapByDataRace[key])) * 100000)))\n",
    "    print(\"\")\n",
    "    homecide_race_counts[key] = ((float(homecide_race_counts[key]) / float(censusMapByDataRace[key])) * 100000)\n",
    "\n",
    "print(json.dumps(homecide_race_counts, indent=3))"
   ]
  },
  {
   "cell_type": "markdown",
   "metadata": {},
   "source": [
    "# Understandings\n",
    "\n",
    "- It looks we have much more homecides with the black race than any other."
   ]
  },
  {
   "cell_type": "code",
   "execution_count": null,
   "metadata": {
    "collapsed": true
   },
   "outputs": [],
   "source": []
  }
 ],
 "metadata": {
  "kernelspec": {
   "display_name": "Python 2",
   "language": "python",
   "name": "python2"
  },
  "language_info": {
   "codemirror_mode": {
    "name": "ipython",
    "version": 2
   },
   "file_extension": ".py",
   "mimetype": "text/x-python",
   "name": "python",
   "nbconvert_exporter": "python",
   "pygments_lexer": "ipython2",
   "version": "2.7.14"
  }
 },
 "nbformat": 4,
 "nbformat_minor": 2
}
