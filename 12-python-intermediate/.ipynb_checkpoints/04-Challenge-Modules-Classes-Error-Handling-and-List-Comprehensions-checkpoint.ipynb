{
 "cells": [
  {
   "cell_type": "markdown",
   "metadata": {},
   "source": [
    "# 2 \n",
    "\n",
    "- Read the dataset into a list of lists.\n",
    "  - Import the csv module.\n",
    "  - Create a File handler for nfl_suspensions_data.csv.\n",
    "  - Use the csv.reader() and list() methods to read the file into a list named nfl_suspensions.\n",
    "\n",
    "\n",
    "- Remove the first list in nfl_suspensions, which contains the header row of the CSV file.\n",
    "  - Select all lists in nfl_suspensions, except the for the one at index 0.\n",
    "  - Assign the resulting list of lists back to the variable nfl_suspensions.\n",
    "\n",
    "\n",
    "- Count the number of times each value in the year column occurs.\n",
    "  - Create an empty dictionary called years.\n",
    "  - Use a for loop to iterate over the list in nfl_suspensions representing the year column:\n",
    "    - Extract that row's value for the year column and assign it to row_year.\n",
    "    - If row_year is already a key in years, add 1 to the value for that key.\n",
    "    - If row_year isn't already a key in years, set the value for the key to 1.\n",
    "\n",
    "\n",
    "- Use the print() function to display the dictionary years."
   ]
  },
  {
   "cell_type": "code",
   "execution_count": 12,
   "metadata": {},
   "outputs": [
    {
     "name": "stdout",
     "output_type": "stream",
     "text": [
      "header:\n",
      "['name', 'team', 'games', 'category', 'desc.', 'year', 'source']\n",
      "{'1989': 17, '1986': 1, '1983': 1, '1946': 1, '1947': 1, '1963': 1, '2014': 29, '2011': 13, '2010': 21, '2013': 40, '2012': 45, '1990': 3, '1993': 1, '   ': 1, '1995': 1, '1994': 1, '1997': 3, '1999': 5, '1998': 2, '2002': 7, '2003': 9, '2000': 1, '2001': 3, '2006': 11, '2007': 17, '2004': 6, '2005': 8, '2008': 10, '2009': 10}\n"
     ]
    }
   ],
   "source": [
    "import csv\n",
    "\n",
    "nfl_suspensions = list(csv.reader(open('nfl-suspensions-data.csv', 'rU')))\n",
    "print('header:')\n",
    "print(nfl_suspensions[0])\n",
    "nfl_suspensions = nfl_suspensions[1:]\n",
    "\n",
    "years = {}\n",
    "\n",
    "for row in nfl_suspensions:\n",
    "    if(years.get(row[5]) is None):\n",
    "       years[row[5]] = 1\n",
    "    else:\n",
    "       years[row[5]] += 1\n",
    "\n",
    "print(years)"
   ]
  },
  {
   "cell_type": "markdown",
   "metadata": {},
   "source": [
    "# 3\n",
    "\n",
    "- Retrieve the unique values in the team column and assign the list to unique_teams.\n",
    "  - Use a list comprehension to create a new list containined just the values in the team column.\n",
    "  - Use the set() function to return a list containing only the unique values and assign to unique_teams.\n",
    "\n",
    "\n",
    "- Retrieve the unique values in the games column and assign the list to unique_games.\n",
    "  - Use a list comprehension to create a new list containined just the values in the games column.\n",
    "  - Use the set() function to return a list containing only the unique values and assign to unique_games.\n",
    "\n",
    "\n",
    "- Display unique_teams and unique_games."
   ]
  },
  {
   "cell_type": "code",
   "execution_count": 17,
   "metadata": {
    "collapsed": true
   },
   "outputs": [],
   "source": [
    "unique_teams = []\n",
    "unique_games = []\n",
    "\n",
    "unique_teams = [row[1] for row in nfl_suspensions]\n",
    "unique_games = [row[2] for row in nfl_suspensions]"
   ]
  },
  {
   "cell_type": "code",
   "execution_count": 18,
   "metadata": {
    "collapsed": true
   },
   "outputs": [],
   "source": [
    "unique_teams = set(unique_teams)\n",
    "unique_games = set(unique_games)"
   ]
  },
  {
   "cell_type": "code",
   "execution_count": 16,
   "metadata": {},
   "outputs": [
    {
     "data": {
      "text/plain": [
       "{'ARI',\n",
       " 'ATL',\n",
       " 'BAL',\n",
       " 'BUF',\n",
       " 'CAR',\n",
       " 'CHI',\n",
       " 'CIN',\n",
       " 'CLE',\n",
       " 'DAL',\n",
       " 'DEN',\n",
       " 'DET',\n",
       " 'FREE',\n",
       " 'GB',\n",
       " 'HOU',\n",
       " 'IND',\n",
       " 'JAX',\n",
       " 'KC',\n",
       " 'LA',\n",
       " 'MIA',\n",
       " 'MIN',\n",
       " 'NE',\n",
       " 'NO',\n",
       " 'NYG',\n",
       " 'NYJ',\n",
       " 'OAK',\n",
       " 'PHI',\n",
       " 'PIT',\n",
       " 'SD',\n",
       " 'SEA',\n",
       " 'SF',\n",
       " 'STL',\n",
       " 'TB',\n",
       " 'TEN',\n",
       " 'WAS'}"
      ]
     },
     "execution_count": 16,
     "metadata": {},
     "output_type": "execute_result"
    }
   ],
   "source": [
    "unique_teams"
   ]
  },
  {
   "cell_type": "code",
   "execution_count": 19,
   "metadata": {},
   "outputs": [
    {
     "data": {
      "text/plain": [
       "{'1',\n",
       " '10',\n",
       " '14',\n",
       " '16',\n",
       " '2',\n",
       " '20',\n",
       " '3',\n",
       " '32',\n",
       " '36',\n",
       " '4',\n",
       " '5',\n",
       " '6',\n",
       " '8',\n",
       " 'Indef.'}"
      ]
     },
     "execution_count": 19,
     "metadata": {},
     "output_type": "execute_result"
    }
   ],
   "source": [
    "unique_games"
   ]
  },
  {
   "cell_type": "markdown",
   "metadata": {},
   "source": [
    "# 4\n",
    "\n",
    "- Create the Suspension class.\n",
    "  - Define the __init__() method with the following criteria:\n",
    "    - The sole required parameter is a list representing a row from the dataset.\n",
    "      - To create a Suspension instance, we want to be able to pass in a list from nfl_suspensions.\n",
    "    - Currently, we're only interested in storing the name, team, games and year columns. Upon instantiation:\n",
    "      - Set the name value for that row to the name property.\n",
    "      - Set the team value for that row to the team property.\n",
    "      - Set the games value for that row to the games property.\n",
    "      - Set the year value for that row to the year property.\n",
    "- Create a Suspension instance using the third row in nfl_suspensions, and assign it to the variable third_suspension.\n",
    "\n",
    "\n",
    "header:\n",
    "['name', 'team', 'games', 'category', 'desc.', 'year', 'source']"
   ]
  },
  {
   "cell_type": "code",
   "execution_count": 25,
   "metadata": {},
   "outputs": [],
   "source": [
    "class Suspension:\n",
    "    def __init__(self, nfl_suspension):\n",
    "        self.name = nfl_suspension[0]\n",
    "        self.team = nfl_suspension[1]\n",
    "        self.games = nfl_suspension[2]\n",
    "        self.year = nfl_suspension[5]\n",
    "\n",
    "third_suspension = Suspension(nfl_suspensions[2])"
   ]
  },
  {
   "cell_type": "markdown",
   "metadata": {},
   "source": [
    "# 5\n",
    "\n",
    "- Instead of assigning the value at index 5 to the year property directly, use a try except block that:\n",
    "  - Tries to cast the value at index 5 to an integer\n",
    "  - If an exception is thrown, assign the value 0 to the year property instead\n",
    "- Create a method called get_year() that returns the year value for that Suspension instance.\n",
    "- Create a Suspension instance using the 23rd row, and assign it to missing_year.\n",
    "- Use the get_year() method to assign the year of the missing_year suspension instance to twenty_third_year.\n"
   ]
  },
  {
   "cell_type": "code",
   "execution_count": 31,
   "metadata": {},
   "outputs": [],
   "source": [
    "class Suspension():\n",
    "    def __init__(self,row):\n",
    "        self.name = row[0]\n",
    "        self.team = row[1]\n",
    "        self.games = row[2]\n",
    "        try:\n",
    "            self.year = int(row[5])\n",
    "        except Exception as exp:\n",
    "            self.year = 0\n",
    "\n",
    "    def get_year(self):\n",
    "        return self.year\n",
    "\n",
    "missing_year = Suspension(nfl_suspensions[22])\n",
    "\n",
    "twenty_third_year = missing_year.get_year()"
   ]
  },
  {
   "cell_type": "code",
   "execution_count": null,
   "metadata": {
    "collapsed": true
   },
   "outputs": [],
   "source": []
  }
 ],
 "metadata": {
  "kernelspec": {
   "display_name": "Python 2",
   "language": "python",
   "name": "python2"
  },
  "language_info": {
   "codemirror_mode": {
    "name": "ipython",
    "version": 2
   },
   "file_extension": ".py",
   "mimetype": "text/x-python",
   "name": "python",
   "nbconvert_exporter": "python",
   "pygments_lexer": "ipython2",
   "version": "2.7.14"
  }
 },
 "nbformat": 4,
 "nbformat_minor": 2
}
