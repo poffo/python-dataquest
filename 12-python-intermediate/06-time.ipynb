{
 "cells": [
  {
   "cell_type": "code",
   "execution_count": 1,
   "metadata": {
    "collapsed": true
   },
   "outputs": [],
   "source": [
    "# 2"
   ]
  },
  {
   "cell_type": "code",
   "execution_count": 3,
   "metadata": {},
   "outputs": [
    {
     "name": "stdout",
     "output_type": "stream",
     "text": [
      "6\n"
     ]
    }
   ],
   "source": [
    "import time\n",
    "\n",
    "current_time = time.time()\n",
    "\n",
    "current_struct_time = time.gmtime(current_time)\n",
    "\n",
    "current_hour = current_struct_time.tm_hour\n",
    "\n",
    "print(current_hour)"
   ]
  },
  {
   "cell_type": "code",
   "execution_count": 4,
   "metadata": {
    "collapsed": true
   },
   "outputs": [],
   "source": [
    "# 3"
   ]
  },
  {
   "cell_type": "code",
   "execution_count": 11,
   "metadata": {},
   "outputs": [
    {
     "name": "stdout",
     "output_type": "stream",
     "text": [
      "2018\n",
      "2\n",
      "7\n"
     ]
    }
   ],
   "source": [
    "import datetime\n",
    "\n",
    "current_datetime = datetime.datetime.utcnow()\n",
    "\n",
    "current_year = current_datetime.year\n",
    "current_month = current_datetime.month\n",
    "current_hour = current_datetime.hour\n",
    "\n",
    "print(current_year)\n",
    "print(current_month)\n",
    "print(current_hour)"
   ]
  },
  {
   "cell_type": "markdown",
   "metadata": {},
   "source": [
    "# 4\n",
    "\n",
    "- Create an instance of the datetime class that represents the day March 22, 2233. Assign this to a new variable kirks_birthday.\n",
    "- Create an instance of the timedelta class representing 15 weeks and assign to diff.\n",
    "- Find the date 15 weeks prior to March 22, 2233 and assign the resulting datetime instance to before_kirk."
   ]
  },
  {
   "cell_type": "code",
   "execution_count": 14,
   "metadata": {},
   "outputs": [
    {
     "name": "stdout",
     "output_type": "stream",
     "text": [
      "2232-12-07 00:00:00\n"
     ]
    }
   ],
   "source": [
    "import datetime\n",
    "\n",
    "kirks_birthday = datetime.datetime(month=3, day=22, year=2233)\n",
    "\n",
    "diff = datetime.timedelta(weeks=15)\n",
    "\n",
    "before_kirk = kirks_birthday - diff\n",
    "\n",
    "print(before_kirk)"
   ]
  },
  {
   "cell_type": "markdown",
   "metadata": {},
   "source": [
    "# 5\n",
    "\n",
    "- Using the datetime.datetime.strftime() method, display mystery_date, a datetime instance we've created for you, in the following format:\n",
    "\n",
    "  - [12-hour time with minutes][AM/PM] on [Day of week] [Month full name] [Day of month], [Full year]\n",
    "\n",
    "\n",
    "- Here's an example in that format:\n",
    "\n",
    "  - \"11:00AM on Wednesday March 03, 2010\"\n",
    "\n",
    "\n",
    "- Store this string in the new variable mystery_date_formatted_string and display using the print() function.\n",
    "\n"
   ]
  },
  {
   "cell_type": "code",
   "execution_count": 21,
   "metadata": {},
   "outputs": [
    {
     "name": "stdout",
     "output_type": "stream",
     "text": [
      "07:12AM on Friday February 09, 2018\n"
     ]
    }
   ],
   "source": [
    "import datetime\n",
    "\n",
    "mystery_date = datetime.datetime.utcnow()\n",
    "\n",
    "mystery_date_formatted_string = mystery_date.strftime(\"%I:%M%p on %A %B %d, %Y\")\n",
    "\n",
    "print(mystery_date_formatted_string)"
   ]
  },
  {
   "cell_type": "markdown",
   "metadata": {},
   "source": [
    "# 6\n",
    "\n",
    "- Use the datetime.datetime.strptime() function to return a datetime instance that represents the timestamp associated with the string mystery_date_formatted_string:\n",
    "  - mystery_date_formatted_string has the format: [Time][AM/PM] on [Day of week] [Month full name] [Day of month], [Full year].\n",
    "  - March 3, 2010 at 11:00AM would look like \"11:00AM on Wednesday March 03, 2010\" in this format.\n",
    "- Assign the resulting datetime instance in mystery_date_2 and display it using the print() function.\n",
    "\n",
    "\n"
   ]
  },
  {
   "cell_type": "code",
   "execution_count": 23,
   "metadata": {},
   "outputs": [
    {
     "name": "stdout",
     "output_type": "stream",
     "text": [
      "2018-02-09 07:12:00\n"
     ]
    }
   ],
   "source": [
    "import datetime\n",
    "\n",
    "mystery_date_formatted_string = \"07:12AM on Friday February 09, 2018\"\n",
    "\n",
    "mystery_date_2 = datetime.datetime.strptime(mystery_date_formatted_string, \"%I:%M%p on %A %B %d, %Y\")\n",
    "\n",
    "print(mystery_date_2)"
   ]
  },
  {
   "cell_type": "markdown",
   "metadata": {},
   "source": [
    "# 8\n",
    "\n",
    "- Loop through posts, and for each row:\n",
    "\n",
    "  - Convert the value in the Time column (index 2 of each row) to a floating point number.\n",
    "  - Convert the floating point number to a datetime instance using datetime.datetime.fromtimestamp().\n",
    "  - Store the resulting datetime instance back in index 2 of the row, overwriting the original Unix timestamp value.\n",
    "\n",
    "\n",
    "\n",
    "\n"
   ]
  },
  {
   "cell_type": "code",
   "execution_count": 35,
   "metadata": {},
   "outputs": [
    {
     "name": "stdout",
     "output_type": "stream",
     "text": [
      "2015-06-01 19:48:34\n",
      "2015-06-13 07:25:17\n",
      "2015-09-27 20:07:16\n",
      "2015-08-21 13:23:43\n",
      "2015-08-20 08:01:50\n",
      "2015-08-19 07:08:00\n",
      "2015-08-09 16:10:09\n",
      "2015-08-05 17:51:28\n",
      "2015-11-18 19:39:11\n",
      "2015-08-23 12:27:49\n"
     ]
    }
   ],
   "source": [
    "import csv\n",
    "\n",
    "posts = list(csv.reader(open('askreddit_2015.csv')))\n",
    "posts = posts[1:]\n",
    "\n",
    "for post in posts:\n",
    "    post[2] = datetime.datetime.fromtimestamp(float(post[2]))\n",
    "\n",
    "for index, post in enumerate(posts):\n",
    "    if(index < 10):\n",
    "        print(post[2])"
   ]
  },
  {
   "cell_type": "markdown",
   "metadata": {},
   "source": [
    "# 9\n",
    "\n",
    "- Loop through posts, and for each row:\n",
    "  - Use the datetime.month attribute to check if the datetime instance at index 2 equals 3.\n",
    "  - If so, increment march_count.\n"
   ]
  },
  {
   "cell_type": "code",
   "execution_count": 42,
   "metadata": {},
   "outputs": [
    {
     "name": "stdout",
     "output_type": "stream",
     "text": [
      "{'11': 97, '10': 77, '12': 88, '1': 52, '3': 59, '2': 46, '5': 76, '4': 58, '7': 77, '6': 74, '9': 69, '8': 94}\n",
      "59\n"
     ]
    }
   ],
   "source": [
    "months = {}\n",
    "\n",
    "for post in posts:\n",
    "    if(months.get(str(post[2].month)) is None):\n",
    "        months[str(post[2].month)] = 1\n",
    "    else:\n",
    "        months[str(post[2].month)] += 1\n",
    "\n",
    "print(months)\n",
    "march_count = months.get(\"3\")\n",
    "print(march_count)"
   ]
  },
  {
   "cell_type": "markdown",
   "metadata": {},
   "source": [
    "# 10\n",
    "\n",
    "- Write a function that takes in an integer value representing a month, and returns the number of posts users submitted during that month.\n",
    "\n",
    "- Use the function to return the number of posts users submitted in February (month value of 2), and assign the count to a new variable feb_count.\n",
    "\n",
    "- Use the function to return the number of posts users submitted in August (month value of 8), and assign the count to a new variable aug_count.\n",
    "\n",
    "\n",
    "\n"
   ]
  },
  {
   "cell_type": "code",
   "execution_count": 43,
   "metadata": {},
   "outputs": [
    {
     "name": "stdout",
     "output_type": "stream",
     "text": [
      "46\n",
      "94\n"
     ]
    }
   ],
   "source": [
    "def postsInMonth(month):\n",
    "    months = {}\n",
    "\n",
    "    for post in posts:\n",
    "        if(months.get(str(post[2].month)) is None):\n",
    "            months[str(post[2].month)] = 1\n",
    "        else:\n",
    "            months[str(post[2].month)] += 1\n",
    "\n",
    "    return months.get(str(month))\n",
    "\n",
    "feb_count = postsInMonth(2)\n",
    "aug_count = postsInMonth(8)\n",
    "\n",
    "print(feb_count)\n",
    "print(aug_count)"
   ]
  },
  {
   "cell_type": "code",
   "execution_count": null,
   "metadata": {
    "collapsed": true
   },
   "outputs": [],
   "source": []
  }
 ],
 "metadata": {
  "kernelspec": {
   "display_name": "Python 2",
   "language": "python",
   "name": "python2"
  },
  "language_info": {
   "codemirror_mode": {
    "name": "ipython",
    "version": 2
   },
   "file_extension": ".py",
   "mimetype": "text/x-python",
   "name": "python",
   "nbconvert_exporter": "python",
   "pygments_lexer": "ipython2",
   "version": "2.7.14"
  }
 },
 "nbformat": 4,
 "nbformat_minor": 2
}
