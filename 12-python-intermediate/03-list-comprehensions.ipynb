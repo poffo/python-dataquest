{
 "cells": [
  {
   "cell_type": "markdown",
   "metadata": {
    "collapsed": true
   },
   "source": [
    "# 2\n",
    "\n",
    "- Enumerate the ships list using a for loop and the enumerate() function.\n",
    "- For each iteration of the loop:\n",
    "  - Print the item from ships at the current index.\n",
    "  - Print the item from cars at the current index."
   ]
  },
  {
   "cell_type": "code",
   "execution_count": 2,
   "metadata": {},
   "outputs": [
    {
     "name": "stdout",
     "output_type": "stream",
     "text": [
      "Andrea Doria\n",
      "Ford Edsel\n",
      "Titanic\n",
      "Ford Pinto\n",
      "Lusitania\n",
      "Yugo\n"
     ]
    }
   ],
   "source": [
    "ships = [\"Andrea Doria\", \"Titanic\", \"Lusitania\"]\n",
    "cars = [\"Ford Edsel\", \"Ford Pinto\", \"Yugo\"]\n",
    "\n",
    "for i, ship in enumerate(ships):\n",
    "    print(ship)\n",
    "    print(cars[i])"
   ]
  },
  {
   "cell_type": "markdown",
   "metadata": {},
   "source": [
    "# 3\n",
    "\n",
    "- Loop through each row in things using the enumerate() function.\n",
    "- Append the item in trees that has the same index (as the current thing) to the end of each row in things.\n",
    "- After the code runs, things should have an extra column."
   ]
  },
  {
   "cell_type": "code",
   "execution_count": 6,
   "metadata": {},
   "outputs": [],
   "source": [
    "things = [[\"apple\", \"monkey\"], [\"orange\", \"dog\"], [\"banana\", \"cat\"]]\n",
    "trees = [\"cedar\", \"maple\", \"fig\"]\n",
    "\n",
    "for i, thing in enumerate(things):\n",
    "    thing.append(trees[i])"
   ]
  },
  {
   "cell_type": "markdown",
   "metadata": {},
   "source": [
    "# 4\n",
    "\n",
    "- Use list comprehension to create a new list called apple_prices_doubled, where you multiply each item in apple_prices by 2.\n",
    "- Use list comprehension to create a new list called apple_prices_lowered, where you subtract 100 from each item in apple_prices."
   ]
  },
  {
   "cell_type": "code",
   "execution_count": 18,
   "metadata": {},
   "outputs": [],
   "source": [
    "apple_prices = [100, 101, 102, 105]\n",
    "\n",
    "apple_prices_doubled = [i * 2 for i in apple_prices]\n",
    "# apple_prices_lowered = [item - apple_prices[i] for i, item in enumerate(apple_prices_doubled)]\n",
    "apple_prices_lowered = [item - 100 for i, item in enumerate(apple_prices)]"
   ]
  },
  {
   "cell_type": "code",
   "execution_count": 19,
   "metadata": {},
   "outputs": [
    {
     "data": {
      "text/plain": [
       "[200, 202, 204, 210]"
      ]
     },
     "execution_count": 19,
     "metadata": {},
     "output_type": "execute_result"
    }
   ],
   "source": [
    "apple_prices_doubled"
   ]
  },
  {
   "cell_type": "code",
   "execution_count": 20,
   "metadata": {},
   "outputs": [
    {
     "data": {
      "text/plain": [
       "[0, 1, 2, 5]"
      ]
     },
     "execution_count": 20,
     "metadata": {},
     "output_type": "execute_result"
    }
   ],
   "source": [
    "apple_prices_lowered"
   ]
  },
  {
   "cell_type": "markdown",
   "metadata": {},
   "source": [
    "# 5\n",
    "\n",
    "- Create an empty dictionary called name_counts.\n",
    "- Loop through each row in legislators.\n",
    "- If the gender column of the row equals F and the year column is greater than 1940:\n",
    "  - Assign the first_name column of the row to the variable name.\n",
    "  - If name is in name_counts:\n",
    "    - Add 1 to the value associated with name in name_counts.\n",
    "  - If name isn't in name_counts:\n",
    "    - Set the value associated with name in name_counts to 1.\n",
    "- When the loop finishes, name_counts should contain each unique name in the first_name column of legislators as a key, and the corresponding number of times it appeared as the value.\n"
   ]
  },
  {
   "cell_type": "code",
   "execution_count": 23,
   "metadata": {
    "collapsed": true
   },
   "outputs": [],
   "source": [
    "import csv\n",
    "\n",
    "legislators = list(csv.reader(file(\"legislators.csv\")))"
   ]
  },
  {
   "cell_type": "code",
   "execution_count": 24,
   "metadata": {},
   "outputs": [
    {
     "data": {
      "text/plain": [
       "[['last_name', 'first_name', 'birthday', 'gender', 'type', 'state', 'party'],\n",
       " ['Bassett', 'Richard', '1745-04-02', 'M', 'sen', 'DE', 'Anti-Administration'],\n",
       " ['Bland', 'Theodorick', '1742-03-21', '', 'rep', 'VA', '']]"
      ]
     },
     "execution_count": 24,
     "metadata": {},
     "output_type": "execute_result"
    }
   ],
   "source": [
    "legislators[:3]"
   ]
  },
  {
   "cell_type": "code",
   "execution_count": 34,
   "metadata": {},
   "outputs": [
    {
     "name": "stdout",
     "output_type": "stream",
     "text": [
      "{'Sue': 1, 'Laura': 1, 'Heather': 1, 'Kathleen': 2, 'Mary Jo': 1, 'Nan': 1, 'Betsy': 1, 'Melissa': 2, 'Jane': 1, 'Anne': 1, 'Thelma': 1, 'Mary': 2, 'Deborah': 2, 'Blanche': 1, 'Barbara': 1, 'Virginia': 1, 'Hilda': 1, 'Hillary': 1, 'Katherine': 1, 'Kay': 1, 'Marilyn': 1, 'Lynn': 1, 'Jean': 1, 'Sandy': 1, 'Betty': 1, 'Nancy': 1, 'Jo Ann': 2, 'Stephanie': 2, 'Olympia': 1, 'Suzanne': 1, 'Carolyn': 1, 'Ann Marie': 1, 'Cynthia': 1, 'Jennifer': 1, 'Denise': 1, 'Karen': 2, 'Gabrielle': 1, 'Shelley': 2, 'Enid': 1, 'Ellen': 1}\n"
     ]
    }
   ],
   "source": [
    "name_counts = {}\n",
    "\n",
    "for row in legislators:\n",
    "    yearComponents = row[2].split('-')\n",
    "    intYear = 0\n",
    "\n",
    "    try:\n",
    "        intYear = int(yearComponents[0])\n",
    "    except Exception as exp:\n",
    "        intYear = 0\n",
    "\n",
    "    if((row[3] == 'F') and (intYear > 1940)):\n",
    "        key = row[1]\n",
    "\n",
    "        if(name_counts.get(key) is None):\n",
    "            name_counts[key] = 1\n",
    "        else:\n",
    "            name_counts[key] = name_counts.get(key) + 1\n",
    "\n",
    "print(name_counts)"
   ]
  },
  {
   "cell_type": "markdown",
   "metadata": {},
   "source": [
    "# 7\n",
    "\n",
    "- Loop through each value in values.\n",
    "- Check whether the value is not None, and if it's greater than 30.\n",
    "- Append the result of the check to checks.\n",
    "- When finished, checks should be a list of Booleans indicating whether or not the corresponding items in values are not None and greater than 30."
   ]
  },
  {
   "cell_type": "code",
   "execution_count": 36,
   "metadata": {},
   "outputs": [
    {
     "name": "stdout",
     "output_type": "stream",
     "text": [
      "[False, False, False, False, False, True]\n"
     ]
    }
   ],
   "source": [
    "values = [None, 10, 20, 30, None, 50]\n",
    "checks = []\n",
    "\n",
    "for i in values:\n",
    "    checks.append(i is not None and i > 30)\n",
    "\n",
    "print(checks)"
   ]
  },
  {
   "cell_type": "markdown",
   "metadata": {},
   "source": [
    "# 8\n",
    "\n",
    "- Set max_value to None.\n",
    "- Loop through the keys in name_counts.\n",
    "- Assign the value associated with the key to count.\n",
    "- If max_value is None, or count is greater than max_value:\n",
    "  - Assign count to max_value.\n",
    "- At the end of the loop, max_value will contain the largest value in name_counts."
   ]
  },
  {
   "cell_type": "code",
   "execution_count": 39,
   "metadata": {},
   "outputs": [
    {
     "name": "stdout",
     "output_type": "stream",
     "text": [
      "2\n"
     ]
    }
   ],
   "source": [
    "max_value = None\n",
    "\n",
    "for row in name_counts:\n",
    "    count = name_counts[row]\n",
    "    if(max_value is None or count > max_value):\n",
    "        max_value = count\n",
    "\n",
    "print(max_value)"
   ]
  },
  {
   "cell_type": "markdown",
   "metadata": {},
   "source": [
    "# 9\n",
    "\n",
    "- Use the items() method to iterate through the keys and values in plant_types.\n",
    "- Print each key in plant_types.\n",
    "- Print each value in plant_types."
   ]
  },
  {
   "cell_type": "code",
   "execution_count": 40,
   "metadata": {},
   "outputs": [
    {
     "name": "stdout",
     "output_type": "stream",
     "text": [
      "cedar\n",
      "tree\n",
      "maple\n",
      "tree\n",
      "orchid\n",
      "flower\n"
     ]
    }
   ],
   "source": [
    "plant_types = {\"orchid\": \"flower\", \"cedar\": \"tree\", \"maple\": \"tree\"}\n",
    "\n",
    "for plant, type in plant_types.items():\n",
    "    print(plant)\n",
    "    print(type)"
   ]
  },
  {
   "cell_type": "markdown",
   "metadata": {},
   "source": [
    "# 10\n",
    "\n",
    "- Loop through the keys in name_counts.\n",
    "- If any value in name_counts equals 2, append its key to top_female_names.\n",
    "- When you're finished, top_female_names will be a list of the most common names of female legislators."
   ]
  },
  {
   "cell_type": "code",
   "execution_count": 43,
   "metadata": {},
   "outputs": [
    {
     "name": "stdout",
     "output_type": "stream",
     "text": [
      "['Kathleen', 'Melissa', 'Mary', 'Deborah', 'Jo Ann', 'Stephanie', 'Karen', 'Shelley']\n"
     ]
    }
   ],
   "source": [
    "top_female_names = []\n",
    "topCount = 2\n",
    "\n",
    "for name in name_counts:\n",
    "    if(name_counts[name] >= topCount):\n",
    "        top_female_names.append(name)\n",
    "\n",
    "print(top_female_names)"
   ]
  },
  {
   "cell_type": "markdown",
   "metadata": {},
   "source": [
    "# 11\n",
    "\n",
    "- Create a dictionary called male_name_counts.\n",
    "- Loop through legislators.\n",
    "  - Count how many times each name with \"M\" in the gender column and a birth year after 1940 occurs.\n",
    "  - Store the results in male_name_counts.\n",
    "- Find the highest value in male_name_counts and assign it to highest_male_count.\n",
    "- Append any keys from male_name_counts with a value equal to highest_male_count to top_male_names."
   ]
  },
  {
   "cell_type": "code",
   "execution_count": 47,
   "metadata": {},
   "outputs": [
    {
     "name": "stdout",
     "output_type": "stream",
     "text": [
      "{'Russell': 1, 'Jay': 1, 'Harry': 2, 'Daniel': 4, 'Kent': 1, 'Stephen': 1, 'Nicholas': 1, 'Zach': 1, 'Dan': 2, 'Steven': 3, 'Fred': 2, 'Jo': 1, 'Christopher': 6, 'Luis': 1, 'Philip': 2, 'Jim': 3, 'Thaddeus': 1, 'Bobby': 2, 'James': 31, 'Michael': 20, 'Calvin': 1, 'Gordon': 1, 'Henry': 2, 'R.': 1, 'Rodney': 1, 'Robin': 1, 'Todd': 2, 'Thomas': 18, 'Parker': 1, 'Kenny': 1, 'W.': 2, 'Jeff': 2, 'J.': 1, 'Wayne': 2, 'Vito': 1, 'Gary': 2, 'Allen': 2, 'Paul': 6, 'George': 6, 'Ray': 1, 'C.L.': 1, 'Elton': 1, 'Duncan': 1, 'Gerald': 2, 'Mark': 9, 'Barack': 1, 'Silvestre': 1, 'Joseph': 5, 'Rick': 4, 'Anh': 1, 'John': 35, 'Ken': 2, 'Mike': 2, 'Frank': 6, 'Samuel': 2, 'Geoff': 1, 'Alan': 1, 'William': 21, 'Jonas': 1, 'Joe': 4, 'Connie': 1, 'Chris': 2, 'Randall': 1, 'Jon': 3, 'Earl': 3, 'Bill': 2, 'Barton': 1, 'David': 24, 'Trey': 1, 'Trent': 1, 'Chester': 1, 'Ernest': 2, 'Bob': 9, 'Judd': 1, 'Dean': 1, 'Bart': 1, 'Ron': 3, 'Glenn': 1, 'Ed': 1, 'Chip': 1, 'Rod': 2, 'Rahm': 1, 'Ric': 1, 'Steve': 4, 'Travis': 1, 'H.': 1, 'Doug': 1, 'Russ': 1, 'Clifford': 1, 'Eric': 2, 'Victor': 3, 'Timothy': 3, 'Baron': 1, 'Robert': 24, 'Kendrick': 1, 'An\\xc3\\xadbal': 1, 'Jeb': 1, 'Tom': 2, 'Gilbert': 1, 'Ciro': 1, 'Harold': 3, 'Hansen': 1, 'C.': 1, 'Lawrence': 1, 'Howard': 1, 'Anthony': 3, 'Larry': 3, 'Carl': 1, 'Evan': 1, 'Lincoln': 3, 'Ben': 3, 'Patrick': 3, 'Phil': 2, 'Jerry': 1, 'Brad': 2, 'Jason': 1, 'Gene': 1, 'Kenneth': 1, 'Brian': 3, 'Ted': 1, 'Byron': 1, 'Virgil': 1, 'Carte': 1, 'Tony': 1, 'Peter': 9, 'Jesse': 1, 'Nathan': 1, 'Richard': 9, 'Lane': 1, 'Tim': 3, 'Edward': 3, 'Norm': 1, 'Walter': 3, 'Jeffrey': 1, 'Francisco': 1, 'Raymond': 2, 'Max': 3, 'Albert': 3, 'Jack': 1, 'Milton': 1, 'Zachary': 1, 'Don': 1, 'Artur': 1, 'Frederick': 2, 'Heath': 1, 'Greg': 1, 'Martin': 3, 'Melvin': 1, 'Lewis': 1, 'Charles': 17, 'Donald': 4, 'Scott': 3, 'Mel': 1, 'Dennis': 4, 'Adam': 1}\n"
     ]
    }
   ],
   "source": [
    "top_male_names = []\n",
    "\n",
    "name_male_counts = {}\n",
    "maxMaleCount = None\n",
    "\n",
    "for row in legislators:\n",
    "    yearComponents = row[2].split('-')\n",
    "    intYear = 0\n",
    "\n",
    "    try:\n",
    "        intYear = int(yearComponents[0])\n",
    "    except Exception as exp:\n",
    "        intYear = 0\n",
    "\n",
    "    if((row[3] == 'M') and (intYear > 1940)):\n",
    "        key = row[1]\n",
    "\n",
    "        if(name_male_counts.get(key) is None):\n",
    "            name_male_counts[key] = 1\n",
    "        else:\n",
    "            name_male_counts[key] = name_male_counts.get(key) + 1\n",
    "            if(maxMaleCount is None or name_male_counts[key] > maxMaleCount):\n",
    "                maxMaleCount = name_male_counts[key]\n",
    "\n",
    "print(name_male_counts)\n",
    "\n",
    "for key in name_male_counts:\n",
    "    if(name_male_counts[key] == maxMaleCount):\n",
    "        top_male_names.append(key)"
   ]
  },
  {
   "cell_type": "code",
   "execution_count": 46,
   "metadata": {},
   "outputs": [
    {
     "data": {
      "text/plain": [
       "['John']"
      ]
     },
     "execution_count": 46,
     "metadata": {},
     "output_type": "execute_result"
    }
   ],
   "source": [
    "top_male_names"
   ]
  },
  {
   "cell_type": "code",
   "execution_count": null,
   "metadata": {
    "collapsed": true
   },
   "outputs": [],
   "source": []
  }
 ],
 "metadata": {
  "kernelspec": {
   "display_name": "Python 2",
   "language": "python",
   "name": "python2"
  },
  "language_info": {
   "codemirror_mode": {
    "name": "ipython",
    "version": 2
   },
   "file_extension": ".py",
   "mimetype": "text/x-python",
   "name": "python",
   "nbconvert_exporter": "python",
   "pygments_lexer": "ipython2",
   "version": "2.7.14"
  }
 },
 "nbformat": 4,
 "nbformat_minor": 2
}
