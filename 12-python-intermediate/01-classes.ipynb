{
 "cells": [
  {
   "cell_type": "markdown",
   "metadata": {},
   "source": [
    "# 2"
   ]
  },
  {
   "cell_type": "code",
   "execution_count": 35,
   "metadata": {},
   "outputs": [],
   "source": [
    "class Dataset:\n",
    "    def __init__(self):\n",
    "        print(\"creating new dataset\")\n",
    "        self.type = \"csv\""
   ]
  },
  {
   "cell_type": "code",
   "execution_count": 36,
   "metadata": {},
   "outputs": [
    {
     "name": "stdout",
     "output_type": "stream",
     "text": [
      "creating new dataset\n",
      "csv\n"
     ]
    }
   ],
   "source": [
    "newDataset = Dataset()\n",
    "\n",
    "print(newDataset.type)"
   ]
  },
  {
   "cell_type": "markdown",
   "metadata": {},
   "source": [
    "# 3"
   ]
  },
  {
   "cell_type": "code",
   "execution_count": 43,
   "metadata": {
    "collapsed": true
   },
   "outputs": [],
   "source": [
    "import pandas\n",
    "import csv\n",
    "\n",
    "class Dataset:\n",
    "    def __init__(self, data):\n",
    "        self.type = \"csv\"\n",
    "        self.data = data"
   ]
  },
  {
   "cell_type": "code",
   "execution_count": 44,
   "metadata": {},
   "outputs": [],
   "source": [
    "nfl_reader = csv.reader(open(\"nfl.csv\"))\n",
    "nfl_data = list(nfl_reader)"
   ]
  },
  {
   "cell_type": "code",
   "execution_count": 45,
   "metadata": {},
   "outputs": [],
   "source": [
    "nfl_dataset = Dataset(nfl_data)\n",
    "nfl_data = nfl_dataset.data"
   ]
  },
  {
   "cell_type": "markdown",
   "metadata": {},
   "source": [
    "# 4"
   ]
  },
  {
   "cell_type": "code",
   "execution_count": 55,
   "metadata": {},
   "outputs": [],
   "source": [
    "class Dataset:\n",
    "    def __init__(self, data):\n",
    "        self.type = \"csv\"\n",
    "        self.data = data\n",
    "\n",
    "    def print_data(self, num_rows=5):\n",
    "        print(self.data[:num_rows])"
   ]
  },
  {
   "cell_type": "code",
   "execution_count": 58,
   "metadata": {},
   "outputs": [
    {
     "name": "stdout",
     "output_type": "stream",
     "text": [
      "[['year', 'week', 'winner', 'loser'], ['2009', '1', 'Pittsburgh Steelers', 'Tennessee Titans'], ['2009', '1', 'Minnesota Vikings', 'Cleveland Browns'], ['2009', '1', 'New York Giants', 'Washington Redskins'], ['2009', '1', 'San Francisco 49ers', 'Arizona Cardinals']]\n"
     ]
    }
   ],
   "source": [
    "nfl_dataset = Dataset(nfl_data)\n",
    "nfl_dataset.print_data(5)"
   ]
  },
  {
   "cell_type": "markdown",
   "metadata": {},
   "source": [
    "# 5"
   ]
  },
  {
   "cell_type": "code",
   "execution_count": 72,
   "metadata": {
    "collapsed": true
   },
   "outputs": [],
   "source": [
    "class Dataset:\n",
    "    def __init__(self, data):\n",
    "        self.header_initialized = False\n",
    "        self.type = \"csv\"\n",
    "        self.data = data\n",
    "        self.extract_header()\n",
    "    def print_data(self, num_rows):\n",
    "        print(self.data[:num_rows])\n",
    "    def extract_header(self):\n",
    "        if(not(self.header_initialized)):\n",
    "            self.header = self.data[0] #set header as first row\n",
    "            self.data = self.data[1:] #set data without first row\n",
    "        self.header_initialized = True"
   ]
  },
  {
   "cell_type": "code",
   "execution_count": 75,
   "metadata": {},
   "outputs": [],
   "source": [
    "nfl_dataset = Dataset(nfl_data)\n",
    "nfl_header = nfl_dataset.header"
   ]
  },
  {
   "cell_type": "markdown",
   "metadata": {},
   "source": [
    "# 6"
   ]
  },
  {
   "cell_type": "code",
   "execution_count": 190,
   "metadata": {},
   "outputs": [],
   "source": [
    "class Dataset:\n",
    "    def __init__(self, data):\n",
    "        self.header_initialized = False\n",
    "        self.type = \"csv\"\n",
    "        self.data = data\n",
    "        self.extract_header()\n",
    "\n",
    "    def print_data(self, num_rows):\n",
    "        print(self.data[:num_rows])\n",
    "\n",
    "    def extract_header(self):\n",
    "        if(not(self.header_initialized)):\n",
    "            self.header = self.data[0] #set header as first row\n",
    "            self.data = self.data[1:] #set data without first row\n",
    "        self.header_initialized = True\n",
    "\n",
    "    def column(self, label):\n",
    "        isThereLabel = (label in self.header)\n",
    "\n",
    "        if(not(isThereLabel)):\n",
    "            return None\n",
    "        else:\n",
    "            column = self.header.index(label)\n",
    "            return [rowData[column] for rowData in self.data]"
   ]
  },
  {
   "cell_type": "code",
   "execution_count": 199,
   "metadata": {
    "collapsed": true
   },
   "outputs": [],
   "source": [
    "nfl_dataset = Dataset(nfl_data)"
   ]
  },
  {
   "cell_type": "code",
   "execution_count": 200,
   "metadata": {},
   "outputs": [
    {
     "data": {
      "text/plain": [
       "['year', 'week', 'winner', 'loser']"
      ]
     },
     "execution_count": 200,
     "metadata": {},
     "output_type": "execute_result"
    }
   ],
   "source": [
    "nfl_dataset.header"
   ]
  },
  {
   "cell_type": "code",
   "execution_count": 201,
   "metadata": {},
   "outputs": [],
   "source": [
    "year_column = nfl_dataset.column('year')"
   ]
  },
  {
   "cell_type": "code",
   "execution_count": 202,
   "metadata": {},
   "outputs": [],
   "source": [
    "player_column = nfl_dataset.column('player')"
   ]
  },
  {
   "cell_type": "code",
   "execution_count": 203,
   "metadata": {},
   "outputs": [
    {
     "data": {
      "text/plain": [
       "['2009', '2009', '2009', '2009', '2009']"
      ]
     },
     "execution_count": 203,
     "metadata": {},
     "output_type": "execute_result"
    }
   ],
   "source": [
    "year_column[:5]"
   ]
  },
  {
   "cell_type": "code",
   "execution_count": 204,
   "metadata": {},
   "outputs": [],
   "source": [
    "player_column"
   ]
  },
  {
   "cell_type": "markdown",
   "metadata": {},
   "source": [
    "# 7"
   ]
  },
  {
   "cell_type": "code",
   "execution_count": 217,
   "metadata": {},
   "outputs": [],
   "source": [
    "class Dataset:\n",
    "    def __init__(self, data):\n",
    "        self.header_initialized = False\n",
    "        self.type = \"csv\"\n",
    "        self.data = data\n",
    "        self.extract_header()\n",
    "\n",
    "    def print_data(self, num_rows):\n",
    "        print(self.data[:num_rows])\n",
    "\n",
    "    def extract_header(self):\n",
    "        if(not(self.header_initialized)):\n",
    "            self.header = self.data[0] #set header as first row\n",
    "            self.data = self.data[1:] #set data without first row\n",
    "        self.header_initialized = True\n",
    "\n",
    "    def column(self, label):\n",
    "        isThereLabel = (label in self.header)\n",
    "\n",
    "        if(not(isThereLabel)):\n",
    "            return None\n",
    "        else:\n",
    "            column = self.header.index(label)\n",
    "            return [rowData[column] for rowData in self.data]\n",
    "\n",
    "    def count_unique(self, label):\n",
    "        data = self.column(label)\n",
    "\n",
    "        if(data is None):\n",
    "            return None\n",
    "\n",
    "        return len(set(data))\n",
    "\n",
    "nfl_dataset = Dataset(nfl_data)"
   ]
  },
  {
   "cell_type": "code",
   "execution_count": 221,
   "metadata": {},
   "outputs": [],
   "source": [
    "total_years = nfl_dataset.count_unique('year')"
   ]
  },
  {
   "cell_type": "markdown",
   "metadata": {},
   "source": [
    "# 8"
   ]
  },
  {
   "cell_type": "code",
   "execution_count": 263,
   "metadata": {},
   "outputs": [],
   "source": [
    "class Dataset:\n",
    "    def __init__(self, data):\n",
    "        self.header_initialized = False\n",
    "        self.type = \"csv\"\n",
    "        self.data = data\n",
    "        self.extract_header()\n",
    "\n",
    "    def print_data(self, num_rows):\n",
    "        print(self.data[:num_rows])\n",
    "\n",
    "    def extract_header(self):\n",
    "        if(not(self.header_initialized)):\n",
    "            self.header = self.data[0] #set header as first row\n",
    "            self.data = self.data[1:] #set data without first row\n",
    "        self.header_initialized = True\n",
    "\n",
    "    def column(self, label):\n",
    "        isThereLabel = (label in self.header)\n",
    "\n",
    "        if(not(isThereLabel)):\n",
    "            return None\n",
    "        else:\n",
    "            column = self.header.index(label)\n",
    "            return [rowData[column] for rowData in self.data]\n",
    "\n",
    "    def count_unique(self, label):\n",
    "        data = self.column(label)\n",
    "\n",
    "        if(data is None):\n",
    "            return None\n",
    "\n",
    "        return len(set(data))\n",
    "\n",
    "    def __str__(self):\n",
    "        #return ''.join(str(line) for line in self.data[:10])\n",
    "        return self.data[:10].__str__()\n",
    "\n",
    "# see all methods related to a class: dir(object)\n",
    "    \n",
    "nfl_dataset = Dataset(nfl_data)"
   ]
  },
  {
   "cell_type": "code",
   "execution_count": 264,
   "metadata": {},
   "outputs": [
    {
     "name": "stdout",
     "output_type": "stream",
     "text": [
      "[['2009', '1', 'Pittsburgh Steelers', 'Tennessee Titans'], ['2009', '1', 'Minnesota Vikings', 'Cleveland Browns'], ['2009', '1', 'New York Giants', 'Washington Redskins'], ['2009', '1', 'San Francisco 49ers', 'Arizona Cardinals'], ['2009', '1', 'Seattle Seahawks', 'St. Louis Rams'], ['2009', '1', 'Philadelphia Eagles', 'Carolina Panthers'], ['2009', '1', 'New York Jets', 'Houston Texans'], ['2009', '1', 'Atlanta Falcons', 'Miami Dolphins'], ['2009', '1', 'Baltimore Ravens', 'Kansas City Chiefs'], ['2009', '1', 'Indianapolis Colts', 'Jacksonville Jaguars']]\n"
     ]
    }
   ],
   "source": [
    "print(nfl_dataset)"
   ]
  },
  {
   "cell_type": "code",
   "execution_count": null,
   "metadata": {},
   "outputs": [],
   "source": []
  },
  {
   "cell_type": "code",
   "execution_count": null,
   "metadata": {
    "collapsed": true
   },
   "outputs": [],
   "source": []
  }
 ],
 "metadata": {
  "kernelspec": {
   "display_name": "Python 2",
   "language": "python",
   "name": "python2"
  },
  "language_info": {
   "codemirror_mode": {
    "name": "ipython",
    "version": 2
   },
   "file_extension": ".py",
   "mimetype": "text/x-python",
   "name": "python",
   "nbconvert_exporter": "python",
   "pygments_lexer": "ipython2",
   "version": "2.7.14"
  }
 },
 "nbformat": 4,
 "nbformat_minor": 2
}
